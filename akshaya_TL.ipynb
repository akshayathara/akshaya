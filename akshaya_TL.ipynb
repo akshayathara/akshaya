{
  "nbformat": 4,
  "nbformat_minor": 0,
  "metadata": {
    "colab": {
      "provenance": [],
      "collapsed_sections": []
    },
    "kernelspec": {
      "name": "python3",
      "display_name": "Python 3"
    },
    "language_info": {
      "name": "python"
    }
  },
  "cells": [
    {
      "cell_type": "markdown",
      "source": [
        "1.write a python program to test a given number is prime or not\n"
      ],
      "metadata": {
        "id": "7FDGw6qrAPp5"
      }
    },
    {
      "cell_type": "code",
      "execution_count": null,
      "metadata": {
        "colab": {
          "base_uri": "https://localhost:8080/"
        },
        "id": "nFU5yiBkAMeC",
        "outputId": "80de022e-e15e-4b54-8f07-81f6fc29d7c0"
      },
      "outputs": [
        {
          "output_type": "stream",
          "name": "stdout",
          "text": [
            "9  is a Prime Number!\n"
          ]
        }
      ],
      "source": [
        "from math import sqrt\n",
        "\n",
        "# Number to be checked for prime\n",
        "n = 9\n",
        "\n",
        "flag = 0\n",
        "\n",
        "if(n > 1):\n",
        "\tfor k in range(2, int(sqrt(n)) + 1):\n",
        "\t\tif (n % k == 0):\n",
        "\t\t\tflag = 1\n",
        "\t\tbreak\n",
        "\tif (flag == 0):\n",
        "\t\tprint(n,\" is a Prime Number!\")\n",
        "\telse:\n",
        "\t\tprint(n,\" is Not a Prime Number!\")\n",
        "else:\n",
        "\tprint(n,\" is Not a Prime Number!\")"
      ]
    },
    {
      "cell_type": "markdown",
      "source": [
        "\n",
        "2.write a program to generate odd numbers from m to n using while loop\n"
      ],
      "metadata": {
        "id": "RARv-dZHAjiQ"
      }
    },
    {
      "cell_type": "code",
      "source": [
        "# Python program to print odd Numbers in a List\n",
        "\n",
        "# list of numbers\n",
        "list1 = [10, 21, 4, 45, 66, 93]\n",
        "i = 0\n",
        "\n",
        "# using while loop\t\n",
        "while(i < len(list1)):\n",
        "\t\n",
        "\t# checking condition\n",
        "\tif list1[i] % 2 != 0:\n",
        "\t\tprint(list1[i], end = \" \")\n",
        "\t\n",
        "\t# increment i\n",
        "\ti += 1\n",
        "\t\n"
      ],
      "metadata": {
        "colab": {
          "base_uri": "https://localhost:8080/"
        },
        "id": "WIac4to4A4H4",
        "outputId": "371b9959-78dc-4d74-b5dd-90f8fd060acc"
      },
      "execution_count": null,
      "outputs": [
        {
          "output_type": "stream",
          "name": "stdout",
          "text": [
            "21 45 93 "
          ]
        }
      ]
    },
    {
      "cell_type": "markdown",
      "source": [
        "3.write a python program to display prime number series up to given number"
      ],
      "metadata": {
        "id": "D7vKEN54A2Ce"
      }
    },
    {
      "cell_type": "code",
      "source": [
        "# First, we will take the input:  \n",
        "lower_value = int(input (\"Please, Enter the Lowest Range Value: \"))  \n",
        "upper_value = int(input (\"Please, Enter the Upper Range Value: \"))  \n",
        "  \n",
        "print (\"The Prime Numbers in the range are: \")  \n",
        "for number in range (lower_value, upper_value + 1):  \n",
        "    if number > 1:  \n",
        "        for i in range (2, number):  \n",
        "            if (number % i) == 0:  \n",
        "                break  \n",
        "        else:  \n",
        "            print (number)  "
      ],
      "metadata": {
        "colab": {
          "base_uri": "https://localhost:8080/"
        },
        "id": "ugy8yCxnBONh",
        "outputId": "50d864bc-14b4-4586-efca-125623daa2cf"
      },
      "execution_count": null,
      "outputs": [
        {
          "output_type": "stream",
          "name": "stdout",
          "text": [
            "Please, Enter the Lowest Range Value: 100\n",
            "Please, Enter the Upper Range Value: 200\n",
            "The Prime Numbers in the range are: \n",
            "101\n",
            "103\n",
            "107\n",
            "109\n",
            "113\n",
            "127\n",
            "131\n",
            "137\n",
            "139\n",
            "149\n",
            "151\n",
            "157\n",
            "163\n",
            "167\n",
            "173\n",
            "179\n",
            "181\n",
            "191\n",
            "193\n",
            "197\n",
            "199\n"
          ]
        }
      ]
    },
    {
      "cell_type": "markdown",
      "source": [
        "4.write a python program to generate fibonacci series."
      ],
      "metadata": {
        "id": "Yozr0ctzBNHa"
      }
    },
    {
      "cell_type": "markdown",
      "source": [
        "# New Section"
      ],
      "metadata": {
        "id": "v8Q5VOdwJ5nA"
      }
    },
    {
      "cell_type": "code",
      "source": [
        "# Program to display the Fibonacci sequence up to n-th term\n",
        "\n",
        "nterms = int(input(\"How many terms? \"))\n",
        "\n",
        "# first two terms\n",
        "n1, n2 = 0, 1\n",
        "count = 0\n",
        "\n",
        "# check if the number of terms is valid\n",
        "if nterms <= 0:\n",
        "   print(\"Please enter a positive integer\")\n",
        "# if there is only one term, return n1\n",
        "elif nterms == 1:\n",
        "   print(\"Fibonacci sequence upto\",nterms,\":\")\n",
        "   print(n1)\n",
        "# generate fibonacci sequence\n",
        "else:\n",
        "   print(\"Fibonacci sequence:\")\n",
        "   while count < nterms:\n",
        "       print(n1)\n",
        "       nth = n1 + n2\n",
        "       # update values\n",
        "       n1 = n2\n",
        "       n2 = nth\n",
        "       count += 1\n"
      ],
      "metadata": {
        "colab": {
          "base_uri": "https://localhost:8080/"
        },
        "id": "yPy279ClBcy0",
        "outputId": "10cbd4ef-c45b-4d55-c975-3f64f762c996"
      },
      "execution_count": null,
      "outputs": [
        {
          "output_type": "stream",
          "name": "stdout",
          "text": [
            "How many terms? 10\n",
            "Fibonacci sequence:\n",
            "0\n",
            "1\n",
            "1\n",
            "2\n",
            "3\n",
            "5\n",
            "8\n",
            "13\n",
            "21\n",
            "34\n"
          ]
        }
      ]
    }
  ]
}